{
 "cells": [
  {
   "cell_type": "markdown",
   "metadata": {},
   "source": [
    "# Create synthetic_data"
   ]
  },
  {
   "cell_type": "code",
   "execution_count": 11,
   "metadata": {},
   "outputs": [],
   "source": [
    "import shutil\n",
    "import os\n",
    "\n",
    "source_path = \"C:/Users/asd47/OneDrive - rui0828/master/CV/Final_Project/Code/data/training_set/VOC_224\"\n",
    "source_list = os.listdir(source_path)\n",
    "# print(os.listdir(source))\n",
    "\n",
    "# for i in range(int(len(source_list)/2)):\n",
    "for i in range(50):\n",
    "    print(i)\n",
    "    shutil.copyfile(source_path + \"/\" + source_list[i*2], \"./data/synthetic_data_50/reflection_layer/\" + str(i) + \".jpg\")\n",
    "    shutil.copyfile(source_path + \"/\" + source_list[i*2+1], \"./data/synthetic_data_50/transmission_layer/\" + str(i) + \".jpg\")"
   ]
  },
  {
   "cell_type": "markdown",
   "metadata": {},
   "source": [
    "# Training"
   ]
  },
  {
   "cell_type": "code",
   "execution_count": 4,
   "metadata": {},
   "outputs": [],
   "source": [
    "import tensorflow as tf\n",
    "\n",
    "# Check if GPU is available\n",
    "print(tf.test.is_gpu_available())"
   ]
  },
  {
   "cell_type": "code",
   "execution_count": null,
   "metadata": {},
   "outputs": [],
   "source": [
    "!python main.py --data_syn_dir data/synthetic_data_100/ --data_real_dir data/real_data/ > training_output.txt"
   ]
  },
  {
   "cell_type": "markdown",
   "metadata": {},
   "source": [
    "# Testing"
   ]
  },
  {
   "cell_type": "code",
   "execution_count": null,
   "metadata": {},
   "outputs": [],
   "source": [
    "!python main.py --task \"pre-trained\\0040\" --is_training 0"
   ]
  }
 ],
 "metadata": {
  "kernelspec": {
   "display_name": "Python 3",
   "language": "python",
   "name": "python3"
  },
  "language_info": {
   "codemirror_mode": {
    "name": "ipython",
    "version": 3
   },
   "file_extension": ".py",
   "mimetype": "text/x-python",
   "name": "python",
   "nbconvert_exporter": "python",
   "pygments_lexer": "ipython3",
   "version": "3.10.13"
  }
 },
 "nbformat": 4,
 "nbformat_minor": 2
}
