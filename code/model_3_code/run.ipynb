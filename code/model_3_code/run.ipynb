{
 "cells": [
  {
   "cell_type": "code",
   "execution_count": null,
   "metadata": {},
   "outputs": [],
   "source": [
    "!python train.py \\\n",
    "    --dataroot \"dataset\" \\\n",
    "    --name IBCLN \\\n",
    "    --model IBCLN \\\n",
    "    --dataset_mode dltermproject \\\n",
    "    --no_flip   \\\n",
    "    --gpu_id 0 \\\n",
    "    --display_id -1 \\\n",
    "    --save_epoch_freq 1 \\\n",
    "    --dataset_size 0"
   ]
  },
  {
   "cell_type": "code",
   "execution_count": null,
   "metadata": {},
   "outputs": [],
   "source": [
    "!python test.py \\\n",
    "    --dataroot \"test_dataset/testdata_reflection_synthetic_table2\"\\\n",
    "    --name IBCLN \\\n",
    "    --model IBCLN \\\n",
    "    --dataset_mode test \\\n",
    "    --preprocess \"\" \\\n",
    "    --no_flip \\\n",
    "    --epoch final \\\n",
    "    --gpu_ids 0 \\\n",
    "    --results_dir \"./results/testdata_reflection_synthetic_table2\""
   ]
  }
 ],
 "metadata": {
  "kernelspec": {
   "display_name": "Python 3",
   "language": "python",
   "name": "python3"
  },
  "language_info": {
   "codemirror_mode": {
    "name": "ipython",
    "version": 3
   },
   "file_extension": ".py",
   "mimetype": "text/x-python",
   "name": "python",
   "nbconvert_exporter": "python",
   "pygments_lexer": "ipython3",
   "version": "3.11.2"
  }
 },
 "nbformat": 4,
 "nbformat_minor": 2
}
